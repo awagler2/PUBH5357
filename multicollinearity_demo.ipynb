{
  "nbformat": 4,
  "nbformat_minor": 0,
  "metadata": {
    "colab": {
      "provenance": [],
      "include_colab_link": true
    },
    "kernelspec": {
      "name": "ir",
      "display_name": "R"
    },
    "language_info": {
      "name": "R"
    }
  },
  "cells": [
    {
      "cell_type": "markdown",
      "metadata": {
        "id": "view-in-github",
        "colab_type": "text"
      },
      "source": [
        "<a href=\"https://colab.research.google.com/github/awagler2/PUBH5357/blob/main/multicollinearity_demo.ipynb\" target=\"_parent\"><img src=\"https://colab.research.google.com/assets/colab-badge.svg\" alt=\"Open In Colab\"/></a>"
      ]
    },
    {
      "cell_type": "code",
      "execution_count": 1,
      "metadata": {
        "colab": {
          "base_uri": "https://localhost:8080/",
          "height": 315
        },
        "id": "xKvsCjJ0H8yV",
        "outputId": "73fc2585-457e-41b8-8f2f-134f7afff28f"
      },
      "outputs": [
        {
          "output_type": "stream",
          "name": "stderr",
          "text": [
            "Warning message in file(file, \"rt\"):\n",
            "“cannot open file 'diabetes[1].csv': No such file or directory”\n"
          ]
        },
        {
          "output_type": "error",
          "ename": "ERROR",
          "evalue": "Error in file(file, \"rt\"): cannot open the connection\n",
          "traceback": [
            "Error in file(file, \"rt\"): cannot open the connection\nTraceback:\n",
            "1. read.table(file = file, header = header, sep = sep, quote = quote, \n .     dec = dec, fill = fill, comment.char = comment.char, ...)",
            "2. file(file, \"rt\")",
            "3. .handleSimpleError(function (cnd) \n . {\n .     watcher$capture_plot_and_output()\n .     cnd <- sanitize_call(cnd)\n .     watcher$push(cnd)\n .     switch(on_error, continue = invokeRestart(\"eval_continue\"), \n .         stop = invokeRestart(\"eval_stop\"), error = NULL)\n . }, \"cannot open the connection\", base::quote(file(file, \"rt\")))"
          ]
        }
      ],
      "source": [
        "\n",
        "\n",
        "\n",
        "dat=read.csv(\"diabetes[1].csv\")\n",
        "str(dat)"
      ]
    },
    {
      "cell_type": "code",
      "source": [
        "dat2=read.csv(\"real_cervical.csv\")[,-c(1,2,15:31)]\n",
        "str(dat2)"
      ],
      "metadata": {
        "colab": {
          "base_uri": "https://localhost:8080/"
        },
        "id": "jmTnm06GaB3U",
        "outputId": "cb6be2a3-1e4d-45dd-e2c7-fb3fb0fa7c35"
      },
      "execution_count": 2,
      "outputs": [
        {
          "output_type": "stream",
          "name": "stdout",
          "text": [
            "'data.frame':\t858 obs. of  19 variables:\n",
            " $ Age                            : int  18 15 34 52 46 42 51 26 45 44 ...\n",
            " $ Number.of.sexual.partners      : num  4 1 1 5 3 3 3 1 1 3 ...\n",
            " $ First.sexual.intercourse       : num  15 14 17 16 21 23 17 26 20 15 ...\n",
            " $ Num.of.pregnancies             : num  1 1 1 4 4 2 6 3 5 2 ...\n",
            " $ Smokes                         : num  0 0 0 1 0 0 1 0 0 1 ...\n",
            " $ Smokes..years.                 : num  0 0 0 37 0 ...\n",
            " $ Smokes..packs.year.            : num  0 0 0 37 0 0 3.4 0 0 2.8 ...\n",
            " $ Hormonal.Contraceptives        : num  0 0 0 1 1 0 0 1 0 0 ...\n",
            " $ Hormonal.Contraceptives..years.: num  0 0 0 3 15 0 0 2 0 0 ...\n",
            " $ IUD                            : num  0 0 0 0 0 0 1 1 0 0 ...\n",
            " $ IUD..years.                    : num  0 0 0 0 0 0 7 7 0 0 ...\n",
            " $ STDs                           : num  0 0 0 0 0 0 0 0 0 0 ...\n",
            " $ Dx.CIN                         : int  0 0 0 0 0 0 0 0 0 0 ...\n",
            " $ Dx.HPV                         : int  0 0 0 1 0 0 0 0 1 0 ...\n",
            " $ Dx                             : int  0 0 0 0 0 0 0 0 1 0 ...\n",
            " $ Hinselmann                     : int  0 0 0 0 0 0 1 0 0 0 ...\n",
            " $ Schiller                       : int  0 0 0 0 0 0 1 0 0 0 ...\n",
            " $ Citology                       : int  0 0 0 0 0 0 0 0 0 0 ...\n",
            " $ Biopsy                         : int  0 0 0 0 0 0 1 0 0 0 ...\n"
          ]
        }
      ]
    },
    {
      "source": [
        "# Install and load necessary libraries (if not already installed)\n",
        "if(!require(corrplot)) install.packages(\"corrplot\")\n",
        "library(corrplot)\n",
        "\n",
        "# Calculate the correlation matrix\n",
        "cor_matrix <- cor(dat)\n",
        "\n",
        "# Create the correlation heatmap\n",
        "corrplot(cor_matrix, method = \"color\",\n",
        "         type = \"upper\", order = \"hclust\",\n",
        "         addCoef.col = \"grey\", # Add correlation coefficients\n",
        "         tl.col = \"black\", tl.srt = 45, # Text label color and rotation\n",
        "         diag = FALSE) # Remove diagonal part"
      ],
      "cell_type": "code",
      "metadata": {
        "colab": {
          "base_uri": "https://localhost:8080/",
          "height": 402
        },
        "id": "jxrzaCXfXbZk",
        "outputId": "1870ab94-5a8a-4dbb-b433-76a7f12f4c7d"
      },
      "execution_count": 4,
      "outputs": [
        {
          "output_type": "stream",
          "name": "stderr",
          "text": [
            "Loading required package: corrplot\n",
            "\n",
            "Warning message in library(package, lib.loc = lib.loc, character.only = TRUE, logical.return = TRUE, :\n",
            "“there is no package called ‘corrplot’”\n",
            "Installing package into ‘/usr/local/lib/R/site-library’\n",
            "(as ‘lib’ is unspecified)\n",
            "\n",
            "corrplot 0.95 loaded\n",
            "\n"
          ]
        },
        {
          "output_type": "error",
          "ename": "ERROR",
          "evalue": "Error: object 'dat' not found\n",
          "traceback": [
            "Error: object 'dat' not found\nTraceback:\n",
            "1. is.data.frame(x)",
            "2. .handleSimpleError(function (cnd) \n . {\n .     watcher$capture_plot_and_output()\n .     cnd <- sanitize_call(cnd)\n .     watcher$push(cnd)\n .     switch(on_error, continue = invokeRestart(\"eval_continue\"), \n .         stop = invokeRestart(\"eval_stop\"), error = NULL)\n . }, \"object 'dat' not found\", base::quote(eval(expr, envir)))"
          ]
        }
      ]
    },
    {
      "cell_type": "code",
      "source": [
        "if(!require(cluster)) install.packages(\"cluster\")\n",
        "library(cluster)\n",
        "\n",
        "# Calculate distance matrix for features (using correlation-based distance)\n",
        "distance_matrix <- as.dist(1 - cor(dat))\n",
        "\n",
        "# Perform hierarchical clustering using Ward's method\n",
        "hc_model <- hclust(distance_matrix, method = \"ward.D2\")\n",
        "\n",
        "# Plot the dendrogram\n",
        "plot(hc_model, main = \"Dendrogram - Feature Clustering (Ward's Method)\",\n",
        "     xlab = \"Features\", ylab = \"Distance\")"
      ],
      "metadata": {
        "colab": {
          "base_uri": "https://localhost:8080/",
          "height": 437
        },
        "id": "uGBO6cTu1dLY",
        "outputId": "34cb121c-5a84-48f0-c673-5949afb1ffe2"
      },
      "execution_count": null,
      "outputs": [
        {
          "output_type": "display_data",
          "data": {
            "text/plain": [
              "Plot with title “Dendrogram - Feature Clustering (Ward's Method)”"
            ],
            "image/png": "[encoded data removed]"
          },
          "metadata": {
            "image/png": {
              "width": 420,
              "height": 420
            }
          }
        }
      ]
    },
    {
      "cell_type": "code",
      "source": [
        "# Calculate the correlation matrix\n",
        "cor_matrix2 <- cor(dat2)\n",
        "\n",
        "# Create the correlation heatmap\n",
        "pdf(\"correlation_plot.pdf\")\n",
        "par(cex=0.6)\n",
        "corrplot(cor_matrix2, method = \"color\",\n",
        "         type = \"upper\", order = \"hclust\",\n",
        "         tl.col = \"black\", tl.srt = 45, # Text label color and rotation\n",
        "         diag = FALSE) # Remove diagonal part\n",
        "dev.off()"
      ],
      "metadata": {
        "colab": {
          "base_uri": "https://localhost:8080/",
          "height": 34
        },
        "id": "wFnCUi1JaSpg",
        "outputId": "1d63264a-e8ff-4f20-ad8c-4fb04a31e5cf"
      },
      "execution_count": 6,
      "outputs": [
        {
          "output_type": "display_data",
          "data": {
            "text/html": [
              "<strong>pdf:</strong> 2"
            ],
            "text/markdown": "**pdf:** 2",
            "text/latex": "\\textbf{pdf:} 2",
            "text/plain": [
              "pdf \n",
              "  2 "
            ]
          },
          "metadata": {}
        }
      ]
    },
    {
      "cell_type": "code",
      "source": [
        "# Calculate distance matrix for features (using correlation-based distance)\n",
        "distance_matrix <- as.dist(1 - cor(dat2))\n",
        "\n",
        "# Perform hierarchical clustering using Ward's method\n",
        "hc_model <- hclust(distance_matrix, method = \"ward.D2\")\n",
        "\n",
        "# Plot the dendrogram\n",
        "plot(hc_model, main = \"Dendrogram - Feature Clustering (Ward's Method)\",\n",
        "     xlab = \"Features\", ylab = \"Distance\")"
      ],
      "metadata": {
        "colab": {
          "base_uri": "https://localhost:8080/",
          "height": 437
        },
        "id": "G7JYpZGX0JDb",
        "outputId": "15a48317-3c44-4e13-b697-746341141650"
      },
      "execution_count": null,
      "outputs": [
        {
          "output_type": "display_data",
          "data": {
            "text/plain": [
              "Plot with title “Dendrogram - Feature Clustering (Ward's Method)”"
            ],
            "image/png": "[encoded data removed]"
          },
          "metadata": {
            "image/png": {
              "width": 420,
              "height": 420
            }
          }
        }
      ]
    },
    {
      "cell_type": "code",
      "source": [
        "# Install and load the 'car' package if you haven't already\n",
        "if(!require(car)) install.packages(\"car\")\n",
        "library(car)\n",
        "\n",
        "mod=glm(Outcome~.,data=dat,family=\"binomial\")\n",
        "summary(mod)\n",
        "\n",
        "# Assuming 'mod' is your glm model\n",
        "vif_values <- vif(mod)\n",
        "\n",
        "# Print the VIF values\n",
        "print(vif_values)"
      ],
      "metadata": {
        "colab": {
          "base_uri": "https://localhost:8080/",
          "height": 784
        },
        "id": "AuKLuavLXxvZ",
        "outputId": "e170c0e0-16bd-4451-b266-d1f57f7a7075"
      },
      "execution_count": null,
      "outputs": [
        {
          "output_type": "stream",
          "name": "stderr",
          "text": [
            "Loading required package: car\n",
            "\n",
            "Warning message in library(package, lib.loc = lib.loc, character.only = TRUE, logical.return = TRUE, :\n",
            "“there is no package called ‘car’”\n",
            "Installing package into ‘/usr/local/lib/R/site-library’\n",
            "(as ‘lib’ is unspecified)\n",
            "\n",
            "also installing the dependencies ‘rbibutils’, ‘cowplot’, ‘Deriv’, ‘microbenchmark’, ‘Rdpack’, ‘numDeriv’, ‘doBy’, ‘SparseM’, ‘MatrixModels’, ‘minqa’, ‘nloptr’, ‘reformulas’, ‘RcppEigen’, ‘carData’, ‘abind’, ‘Formula’, ‘pbkrtest’, ‘quantreg’, ‘lme4’\n",
            "\n",
            "\n",
            "Loading required package: carData\n",
            "\n"
          ]
        },
        {
          "output_type": "display_data",
          "data": {
            "text/plain": [
              "\n",
              "Call:\n",
              "glm(formula = Outcome ~ ., family = \"binomial\", data = dat)\n",
              "\n",
              "Coefficients:\n",
              "                           Estimate Std. Error z value Pr(>|z|)    \n",
              "(Intercept)              -8.4046964  0.7166359 -11.728  < 2e-16 ***\n",
              "Pregnancies               0.1231823  0.0320776   3.840 0.000123 ***\n",
              "Glucose                   0.0351637  0.0037087   9.481  < 2e-16 ***\n",
              "BloodPressure            -0.0132955  0.0052336  -2.540 0.011072 *  \n",
              "SkinThickness             0.0006190  0.0068994   0.090 0.928515    \n",
              "Insulin                  -0.0011917  0.0009012  -1.322 0.186065    \n",
              "BMI                       0.0897010  0.0150876   5.945 2.76e-09 ***\n",
              "DiabetesPedigreeFunction  0.9451797  0.2991475   3.160 0.001580 ** \n",
              "Age                       0.0148690  0.0093348   1.593 0.111192    \n",
              "---\n",
              "Signif. codes:  0 ‘***’ 0.001 ‘**’ 0.01 ‘*’ 0.05 ‘.’ 0.1 ‘ ’ 1\n",
              "\n",
              "(Dispersion parameter for binomial family taken to be 1)\n",
              "\n",
              "    Null deviance: 993.48  on 767  degrees of freedom\n",
              "Residual deviance: 723.45  on 759  degrees of freedom\n",
              "AIC: 741.45\n",
              "\n",
              "Number of Fisher Scoring iterations: 5\n"
            ]
          },
          "metadata": {}
        },
        {
          "output_type": "stream",
          "name": "stdout",
          "text": [
            "             Pregnancies                  Glucose            BloodPressure \n",
            "                1.408434                 1.214367                 1.175283 \n",
            "           SkinThickness                  Insulin                      BMI \n",
            "                1.522040                 1.467918                 1.220416 \n",
            "DiabetesPedigreeFunction                      Age \n",
            "                1.034318                 1.502069 \n"
          ]
        }
      ]
    },
    {
      "cell_type": "code",
      "source": [
        "table(dat2$Dx.CIN,dat2$Dx.HPV)\n",
        "\n",
        "mod2=glm(Dx~.,data=dat2,family=\"binomial\")\n",
        "summary(mod2)\n",
        "\n",
        "# Assuming 'mod' is your glm model\n",
        "vif_values2 <- vif(mod2)\n",
        "\n",
        "# Print the VIF values\n",
        "print(vif_values2)"
      ],
      "metadata": {
        "colab": {
          "base_uri": "https://localhost:8080/",
          "height": 1000
        },
        "id": "DxTUY7uibyIT",
        "outputId": "5ec69721-b2ec-4287-e006-ca75dd34cd94"
      },
      "execution_count": null,
      "outputs": [
        {
          "output_type": "display_data",
          "data": {
            "text/plain": [
              "   \n",
              "      0   1\n",
              "  0 831  18\n",
              "  1   9   0"
            ]
          },
          "metadata": {}
        },
        {
          "output_type": "stream",
          "name": "stderr",
          "text": [
            "Warning message:\n",
            "“glm.fit: algorithm did not converge”\n",
            "Warning message:\n",
            "“glm.fit: fitted probabilities numerically 0 or 1 occurred”\n"
          ]
        },
        {
          "output_type": "display_data",
          "data": {
            "text/plain": [
              "\n",
              "Call:\n",
              "glm(formula = Dx ~ ., family = \"binomial\", data = dat2)\n",
              "\n",
              "Coefficients:\n",
              "                                  Estimate Std. Error z value Pr(>|z|)\n",
              "(Intercept)                       -79.4360 47812.2013  -0.002    0.999\n",
              "Age                                 0.2613  1930.4215   0.000    1.000\n",
              "Number.of.sexual.partners           2.4060  5393.8799   0.000    1.000\n",
              "First.sexual.intercourse            2.2215  2015.0910   0.001    0.999\n",
              "Num.of.pregnancies                -30.0672  6022.1556  -0.005    0.996\n",
              "Smokes                            -91.1510 77017.4158  -0.001    0.999\n",
              "Smokes..years.                     -2.1001  7770.6671   0.000    1.000\n",
              "Smokes..packs.year.                 2.7168  6865.9569   0.000    1.000\n",
              "Hormonal.Contraceptives             5.2639 11514.4089   0.000    1.000\n",
              "Hormonal.Contraceptives..years.    -4.3911  8033.0479  -0.001    1.000\n",
              "IUD                                40.9381 20184.0580   0.002    0.998\n",
              "IUD..years.                         4.1311  2821.0604   0.001    0.999\n",
              "STDs                              -24.1533 24273.5659  -0.001    0.999\n",
              "Dx.CIN                            196.6466 90625.4373   0.002    0.998\n",
              "Dx.HPV                            191.1133 42531.6359   0.004    0.996\n",
              "Hinselmann                        -73.0003 84532.9748  -0.001    0.999\n",
              "Schiller                          -53.5134 63921.9559  -0.001    0.999\n",
              "Citology                          -12.8295 31977.1468   0.000    1.000\n",
              "Biopsy                             55.7094 94580.5251   0.001    1.000\n",
              "\n",
              "(Dispersion parameter for binomial family taken to be 1)\n",
              "\n",
              "    Null deviance: 2.1900e+02  on 857  degrees of freedom\n",
              "Residual deviance: 1.0477e-07  on 839  degrees of freedom\n",
              "AIC: 38\n",
              "\n",
              "Number of Fisher Scoring iterations: 25\n"
            ]
          },
          "metadata": {}
        },
        {
          "output_type": "stream",
          "name": "stdout",
          "text": [
            "                            Age       Number.of.sexual.partners \n",
            "                      13.671723                        1.956582 \n",
            "       First.sexual.intercourse              Num.of.pregnancies \n",
            "                       8.443525                        5.195505 \n",
            "                         Smokes                  Smokes..years. \n",
            "                       8.387247                       17.998503 \n",
            "            Smokes..packs.year.         Hormonal.Contraceptives \n",
            "                       9.198115                        1.977723 \n",
            "Hormonal.Contraceptives..years.                             IUD \n",
            "                      12.002424                        9.099871 \n",
            "                    IUD..years.                            STDs \n",
            "                      14.054630                        2.180957 \n",
            "                         Dx.CIN                          Dx.HPV \n",
            "                       1.451693                       13.654181 \n",
            "                     Hinselmann                        Schiller \n",
            "                       3.036729                        4.370650 \n",
            "                       Citology                          Biopsy \n",
            "                       1.247226                        6.545426 \n"
          ]
        }
      ]
    }
  ]
}