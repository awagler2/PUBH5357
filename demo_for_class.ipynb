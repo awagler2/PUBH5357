{
  "nbformat": 4,
  "nbformat_minor": 0,
  "metadata": {
    "colab": {
      "provenance": [],
      "authorship_tag": "ABX9TyNkvmMgOj8FzHwHVc00JYZU",
      "include_colab_link": true
    },
    "kernelspec": {
      "name": "ir",
      "display_name": "R"
    },
    "language_info": {
      "name": "R"
    }
  },
  "cells": [
    {
      "cell_type": "markdown",
      "metadata": {
        "id": "view-in-github",
        "colab_type": "text"
      },
      "source": [
        "<a href=\"https://colab.research.google.com/github/awagler2/PUBH5357/blob/main/demo_for_class.ipynb\" target=\"_parent\"><img src=\"https://colab.research.google.com/assets/colab-badge.svg\" alt=\"Open In Colab\"/></a>"
      ]
    },
    {
      "cell_type": "markdown",
      "source": [
        "Read in my data for class\n"
      ],
      "metadata": {
        "id": "5As1WLU8GJjh"
      }
    },
    {
      "source": [
        "# Install the readr package if you don't have it already\n",
        "if (!require(\"readr\")) install.packages(\"readr\")\n",
        "\n",
        "# Load the readr package\n",
        "library(readr)\n",
        "\n",
        "# Read the CSV file into a data frame\n",
        "mydata <- read.csv(\"well.csv\")\n",
        "\n",
        "\n",
        "dim(mydata)\n",
        "\n",
        "# Print the first few rows of the data frame to check if it was read correctly\n",
        "head(mydata)\n"
      ],
      "cell_type": "code",
      "metadata": {
        "colab": {
          "base_uri": "https://localhost:8080/",
          "height": 324
        },
        "id": "OrEYGyLjApe_",
        "outputId": "ea827947-bd43-406d-f9ca-215d8c3b28fc"
      },
      "execution_count": 2,
      "outputs": [
        {
          "output_type": "display_data",
          "data": {
            "text/html": [
              "<style>\n",
              ".list-inline {list-style: none; margin:0; padding: 0}\n",
              ".list-inline>li {display: inline-block}\n",
              ".list-inline>li:not(:last-child)::after {content: \"\\00b7\"; padding: 0 .5ex}\n",
              "</style>\n",
              "<ol class=list-inline><li>335</li><li>45</li></ol>\n"
            ],
            "text/markdown": "1. 335\n2. 45\n\n\n",
            "text/latex": "\\begin{enumerate*}\n\\item 335\n\\item 45\n\\end{enumerate*}\n",
            "text/plain": [
              "[1] 335  45"
            ]
          },
          "metadata": {}
        },
        {
          "output_type": "display_data",
          "data": {
            "text/html": [
              "<table class=\"dataframe\">\n",
              "<caption>A data.frame: 6 × 45</caption>\n",
              "<thead>\n",
              "\t<tr><th></th><th scope=col>Well.Number</th><th scope=col>Year</th><th scope=col>Irrigation.Season</th><th scope=col>Month</th><th scope=col>pH</th><th scope=col>Conductivity</th><th scope=col>Ca..Calcium.</th><th scope=col>K..Potassium.</th><th scope=col>Mg..Magnesium.</th><th scope=col>Na..Sodium.</th><th scope=col>⋯</th><th scope=col>Pb..Lead.</th><th scope=col>Se..Selenium.</th><th scope=col>Sn..Tin.</th><th scope=col>Sr..Strontium.</th><th scope=col>U..Uranium.</th><th scope=col>V..Vanadium.</th><th scope=col>W..Tungsten.</th><th scope=col>Zn..Zinc.</th><th scope=col>Si..Silicon.</th><th scope=col>B..Boron.</th></tr>\n",
              "\t<tr><th></th><th scope=col>&lt;int&gt;</th><th scope=col>&lt;int&gt;</th><th scope=col>&lt;chr&gt;</th><th scope=col>&lt;chr&gt;</th><th scope=col>&lt;dbl&gt;</th><th scope=col>&lt;dbl&gt;</th><th scope=col>&lt;dbl&gt;</th><th scope=col>&lt;dbl&gt;</th><th scope=col>&lt;dbl&gt;</th><th scope=col>&lt;dbl&gt;</th><th scope=col>⋯</th><th scope=col>&lt;dbl&gt;</th><th scope=col>&lt;dbl&gt;</th><th scope=col>&lt;dbl&gt;</th><th scope=col>&lt;dbl&gt;</th><th scope=col>&lt;dbl&gt;</th><th scope=col>&lt;dbl&gt;</th><th scope=col>&lt;dbl&gt;</th><th scope=col>&lt;dbl&gt;</th><th scope=col>&lt;dbl&gt;</th><th scope=col>&lt;dbl&gt;</th></tr>\n",
              "</thead>\n",
              "<tbody>\n",
              "\t<tr><th scope=row>1</th><td>47</td><td>2022</td><td>No </td><td>November</td><td>7.35</td><td>10380</td><td>586.97</td><td>11.24</td><td>66.85</td><td>1515.76</td><td>⋯</td><td>-0.01</td><td>-0.01</td><td> 0</td><td> 0</td><td>0.00</td><td>0.00</td><td> 0</td><td> 0.00</td><td>2.68</td><td>0.18</td></tr>\n",
              "\t<tr><th scope=row>2</th><td>47</td><td>2022</td><td>No </td><td>December</td><td>7.75</td><td>10670</td><td>669.64</td><td> 8.25</td><td>78.69</td><td>1420.93</td><td>⋯</td><td>-0.01</td><td>-0.01</td><td> 0</td><td> 0</td><td>0.00</td><td>0.00</td><td> 0</td><td> 0.00</td><td>3.16</td><td>0.18</td></tr>\n",
              "\t<tr><th scope=row>3</th><td>47</td><td>2023</td><td>No </td><td>January </td><td>7.72</td><td> 9817</td><td>810.18</td><td> 8.05</td><td>57.60</td><td>1644.21</td><td>⋯</td><td>-0.01</td><td>-0.01</td><td> 0</td><td> 0</td><td>0.00</td><td>0.00</td><td> 0</td><td>-0.01</td><td>2.52</td><td>0.18</td></tr>\n",
              "\t<tr><th scope=row>4</th><td>47</td><td>2023</td><td>No </td><td>April   </td><td>7.80</td><td> 8066</td><td>577.30</td><td> 7.00</td><td>51.50</td><td>1245.33</td><td>⋯</td><td>-0.01</td><td> 0.00</td><td> 0</td><td> 0</td><td>0.03</td><td>0.00</td><td> 0</td><td> 4.17</td><td>0.17</td><td>0.00</td></tr>\n",
              "\t<tr><th scope=row>5</th><td>47</td><td>2023</td><td>Yes</td><td>May     </td><td>7.70</td><td> 9129</td><td>656.90</td><td> 5.97</td><td>32.38</td><td>1334.64</td><td>⋯</td><td>   NA</td><td>   NA</td><td>NA</td><td>NA</td><td>  NA</td><td>  NA</td><td>NA</td><td>   NA</td><td>  NA</td><td>  NA</td></tr>\n",
              "\t<tr><th scope=row>6</th><td>47</td><td>2023</td><td>Yes</td><td>August  </td><td>7.33</td><td> 7251</td><td>333.89</td><td> 0.00</td><td>26.63</td><td>1042.47</td><td>⋯</td><td>-0.01</td><td>-0.01</td><td> 0</td><td>NA</td><td>0.00</td><td>0.03</td><td> 0</td><td> 0.00</td><td>3.55</td><td>0.14</td></tr>\n",
              "</tbody>\n",
              "</table>\n"
            ],
            "text/markdown": "\nA data.frame: 6 × 45\n\n| <!--/--> | Well.Number &lt;int&gt; | Year &lt;int&gt; | Irrigation.Season &lt;chr&gt; | Month &lt;chr&gt; | pH &lt;dbl&gt; | Conductivity &lt;dbl&gt; | Ca..Calcium. &lt;dbl&gt; | K..Potassium. &lt;dbl&gt; | Mg..Magnesium. &lt;dbl&gt; | Na..Sodium. &lt;dbl&gt; | ⋯ ⋯ | Pb..Lead. &lt;dbl&gt; | Se..Selenium. &lt;dbl&gt; | Sn..Tin. &lt;dbl&gt; | Sr..Strontium. &lt;dbl&gt; | U..Uranium. &lt;dbl&gt; | V..Vanadium. &lt;dbl&gt; | W..Tungsten. &lt;dbl&gt; | Zn..Zinc. &lt;dbl&gt; | Si..Silicon. &lt;dbl&gt; | B..Boron. &lt;dbl&gt; |\n|---|---|---|---|---|---|---|---|---|---|---|---|---|---|---|---|---|---|---|---|---|---|\n| 1 | 47 | 2022 | No  | November | 7.35 | 10380 | 586.97 | 11.24 | 66.85 | 1515.76 | ⋯ | -0.01 | -0.01 |  0 |  0 | 0.00 | 0.00 |  0 |  0.00 | 2.68 | 0.18 |\n| 2 | 47 | 2022 | No  | December | 7.75 | 10670 | 669.64 |  8.25 | 78.69 | 1420.93 | ⋯ | -0.01 | -0.01 |  0 |  0 | 0.00 | 0.00 |  0 |  0.00 | 3.16 | 0.18 |\n| 3 | 47 | 2023 | No  | January  | 7.72 |  9817 | 810.18 |  8.05 | 57.60 | 1644.21 | ⋯ | -0.01 | -0.01 |  0 |  0 | 0.00 | 0.00 |  0 | -0.01 | 2.52 | 0.18 |\n| 4 | 47 | 2023 | No  | April    | 7.80 |  8066 | 577.30 |  7.00 | 51.50 | 1245.33 | ⋯ | -0.01 |  0.00 |  0 |  0 | 0.03 | 0.00 |  0 |  4.17 | 0.17 | 0.00 |\n| 5 | 47 | 2023 | Yes | May      | 7.70 |  9129 | 656.90 |  5.97 | 32.38 | 1334.64 | ⋯ |    NA |    NA | NA | NA |   NA |   NA | NA |    NA |   NA |   NA |\n| 6 | 47 | 2023 | Yes | August   | 7.33 |  7251 | 333.89 |  0.00 | 26.63 | 1042.47 | ⋯ | -0.01 | -0.01 |  0 | NA | 0.00 | 0.03 |  0 |  0.00 | 3.55 | 0.14 |\n\n",
            "text/latex": "A data.frame: 6 × 45\n\\begin{tabular}{r|lllllllllllllllllllll}\n  & Well.Number & Year & Irrigation.Season & Month & pH & Conductivity & Ca..Calcium. & K..Potassium. & Mg..Magnesium. & Na..Sodium. & ⋯ & Pb..Lead. & Se..Selenium. & Sn..Tin. & Sr..Strontium. & U..Uranium. & V..Vanadium. & W..Tungsten. & Zn..Zinc. & Si..Silicon. & B..Boron.\\\\\n  & <int> & <int> & <chr> & <chr> & <dbl> & <dbl> & <dbl> & <dbl> & <dbl> & <dbl> & ⋯ & <dbl> & <dbl> & <dbl> & <dbl> & <dbl> & <dbl> & <dbl> & <dbl> & <dbl> & <dbl>\\\\\n\\hline\n\t1 & 47 & 2022 & No  & November & 7.35 & 10380 & 586.97 & 11.24 & 66.85 & 1515.76 & ⋯ & -0.01 & -0.01 &  0 &  0 & 0.00 & 0.00 &  0 &  0.00 & 2.68 & 0.18\\\\\n\t2 & 47 & 2022 & No  & December & 7.75 & 10670 & 669.64 &  8.25 & 78.69 & 1420.93 & ⋯ & -0.01 & -0.01 &  0 &  0 & 0.00 & 0.00 &  0 &  0.00 & 3.16 & 0.18\\\\\n\t3 & 47 & 2023 & No  & January  & 7.72 &  9817 & 810.18 &  8.05 & 57.60 & 1644.21 & ⋯ & -0.01 & -0.01 &  0 &  0 & 0.00 & 0.00 &  0 & -0.01 & 2.52 & 0.18\\\\\n\t4 & 47 & 2023 & No  & April    & 7.80 &  8066 & 577.30 &  7.00 & 51.50 & 1245.33 & ⋯ & -0.01 &  0.00 &  0 &  0 & 0.03 & 0.00 &  0 &  4.17 & 0.17 & 0.00\\\\\n\t5 & 47 & 2023 & Yes & May      & 7.70 &  9129 & 656.90 &  5.97 & 32.38 & 1334.64 & ⋯ &    NA &    NA & NA & NA &   NA &   NA & NA &    NA &   NA &   NA\\\\\n\t6 & 47 & 2023 & Yes & August   & 7.33 &  7251 & 333.89 &  0.00 & 26.63 & 1042.47 & ⋯ & -0.01 & -0.01 &  0 & NA & 0.00 & 0.03 &  0 &  0.00 & 3.55 & 0.14\\\\\n\\end{tabular}\n",
            "text/plain": [
              "  Well.Number Year Irrigation.Season Month    pH   Conductivity Ca..Calcium.\n",
              "1 47          2022 No                November 7.35 10380        586.97      \n",
              "2 47          2022 No                December 7.75 10670        669.64      \n",
              "3 47          2023 No                January  7.72  9817        810.18      \n",
              "4 47          2023 No                April    7.80  8066        577.30      \n",
              "5 47          2023 Yes               May      7.70  9129        656.90      \n",
              "6 47          2023 Yes               August   7.33  7251        333.89      \n",
              "  K..Potassium. Mg..Magnesium. Na..Sodium. ⋯ Pb..Lead. Se..Selenium. Sn..Tin.\n",
              "1 11.24         66.85          1515.76     ⋯ -0.01     -0.01          0      \n",
              "2  8.25         78.69          1420.93     ⋯ -0.01     -0.01          0      \n",
              "3  8.05         57.60          1644.21     ⋯ -0.01     -0.01          0      \n",
              "4  7.00         51.50          1245.33     ⋯ -0.01      0.00          0      \n",
              "5  5.97         32.38          1334.64     ⋯    NA        NA         NA      \n",
              "6  0.00         26.63          1042.47     ⋯ -0.01     -0.01          0      \n",
              "  Sr..Strontium. U..Uranium. V..Vanadium. W..Tungsten. Zn..Zinc. Si..Silicon.\n",
              "1  0             0.00        0.00          0            0.00     2.68        \n",
              "2  0             0.00        0.00          0            0.00     3.16        \n",
              "3  0             0.00        0.00          0           -0.01     2.52        \n",
              "4  0             0.03        0.00          0            4.17     0.17        \n",
              "5 NA               NA          NA         NA              NA       NA        \n",
              "6 NA             0.00        0.03          0            0.00     3.55        \n",
              "  B..Boron.\n",
              "1 0.18     \n",
              "2 0.18     \n",
              "3 0.18     \n",
              "4 0.00     \n",
              "5   NA     \n",
              "6 0.14     "
            ]
          },
          "metadata": {}
        }
      ]
    },
    {
      "cell_type": "markdown",
      "source": [
        "Now create a summary table"
      ],
      "metadata": {
        "id": "c_9tKCBlGU3C"
      }
    },
    {
      "cell_type": "markdown",
      "source": [],
      "metadata": {
        "id": "MmZulTUnGUze"
      }
    },
    {
      "source": [
        "# Install IRdisplay if you don't have it already\n",
        "if (!require(\"IRdisplay\")) install.packages(\"IRdisplay\")\n",
        "\n",
        "# Load the IRdisplay package\n",
        "library(IRdisplay)\n",
        "\n",
        "# Install gtsummary if you don't have it already\n",
        "if (!require(\"gtsummary\")) install.packages(\"gtsummary\")\n",
        "\n",
        "# Load the gtsummary package\n",
        "library(gtsummary)\n",
        "\n",
        "# Install knitr if you don't have it already\n",
        "if (!require(\"knitr\")) install.packages(\"knitr\")\n",
        "\n",
        "# Load the knitr package\n",
        "library(knitr)\n",
        "\n",
        "# Create the summary table\n",
        "table1 = mydata %>%\n",
        "  tbl_summary(\n",
        "    by = Irrigation.Season, # Group by Irrigation.Season\n",
        "    include = c(pH, Conductivity) # Include pH and Conductivity columns\n",
        "  ) # Add p-values for comparing groups\n",
        "\n",
        "kable(table1)\n",
        "\n",
        "# Convert the gtsummary table to a flextable object\n",
        "#table1_flextable <- as_flextable(table1)  %>%\n",
        "# Save the flextable object as an RTF file\n",
        "#flextable::save_as_docx(path = 'table.docx')"
      ],
      "cell_type": "code",
      "metadata": {
        "colab": {
          "base_uri": "https://localhost:8080/",
          "height": 243
        },
        "id": "cWYhQyWVHltZ",
        "outputId": "f3440075-0e15-42fe-d2bf-6da5267dc4b5"
      },
      "execution_count": 11,
      "outputs": [
        {
          "output_type": "stream",
          "name": "stderr",
          "text": [
            "Loading required package: knitr\n",
            "\n"
          ]
        },
        {
          "output_type": "display_data",
          "data": {
            "text/plain": [
              "\n",
              "\n",
              "|**Characteristic** |** No**  \n",
              "N = 1       |**No**  \n",
              "N = 207      |**Yes**  \n",
              "N = 127     |\n",
              "|:------------------|:--------------------|:--------------------|:--------------------|\n",
              "|pH                 |7.48 (7.48, 7.48)    |7.91 (7.70, 8.10)    |7.40 (7.22, 7.62)    |\n",
              "|Unknown            |0                    |0                    |22                   |\n",
              "|Conductivity       |4,965 (4,965, 4,965) |2,680 (1,467, 4,440) |2,350 (1,589, 4,399) |\n",
              "|Unknown            |0                    |0                    |22                   |"
            ]
          },
          "metadata": {}
        }
      ]
    }
  ]
}